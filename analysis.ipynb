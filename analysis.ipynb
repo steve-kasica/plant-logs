{
 "cells": [
  {
   "cell_type": "markdown",
   "metadata": {},
   "source": [
    "# Water Logs Analysis\n",
    "\n",
    "This notebook contains a *sophsticated algorithm* for determining if I need to water my plants today, and an image viewer for displaying photographs."
   ]
  },
  {
   "cell_type": "code",
   "execution_count": 1,
   "metadata": {},
   "outputs": [],
   "source": [
    "from ipywidgets import interact\n",
    "from IPython.display import Image, display\n",
    "import ipywidgets as widgets\n",
    "import os\n",
    "import datetime"
   ]
  },
  {
   "cell_type": "markdown",
   "metadata": {},
   "source": [
    "## Helper Functions\n",
    "The `fnToDate` function parses the file name to extract the date the plants were watered, which was the date the photo was taken. The `dateToFn` function is the inverse; it exports a Python date object back into a file name."
   ]
  },
  {
   "cell_type": "code",
   "execution_count": 2,
   "metadata": {},
   "outputs": [],
   "source": [
    "def fnToDate(fn):\n",
    "    exp_fn = fn.split('_')\n",
    "    year = int(exp_fn[1][0:4])\n",
    "    month = int(exp_fn[1][4:6])\n",
    "    day = int(exp_fn[1][6:8])\n",
    "    hour = int(exp_fn[2])\n",
    "    minute = int(exp_fn[3])    \n",
    "    second = int(exp_fn[4])\n",
    "    return datetime.datetime(year, month, day, hour, minute, second)\n",
    "\n",
    "def dateToFn(date):\n",
    "    return date.strftime('WIN_%Y%m%d_%H_%M_%S_Pro.jpg')"
   ]
  },
  {
   "cell_type": "code",
   "execution_count": 3,
   "metadata": {},
   "outputs": [],
   "source": [
    "img_dir = './wedding_succulents'\n",
    "water_dates = [ fnToDate(fn) for fn in os.listdir(img_dir) ]"
   ]
  },
  {
   "cell_type": "markdown",
   "metadata": {},
   "source": [
    "## Should I water today?"
   ]
  },
  {
   "cell_type": "code",
   "execution_count": 4,
   "metadata": {},
   "outputs": [
    {
     "name": "stdout",
     "output_type": "stream",
     "text": [
      "These plants were last watered 11 days ago. You should probably water them today.\n"
     ]
    }
   ],
   "source": [
    "delta = datetime.datetime.now() - max(water_dates)\n",
    "water_msg = 'You should probably water them today.' if delta.days >= 7  else 'Skip watering today.'\n",
    "print(f'These plants were last watered {delta.days} days ago. {water_msg}')"
   ]
  },
  {
   "cell_type": "markdown",
   "metadata": {},
   "source": [
    "## Image Viewer\n",
    "\n",
    "Use the dropdown menu below to pull up an image of the plants on the day they were watered."
   ]
  },
  {
   "cell_type": "code",
   "execution_count": 5,
   "metadata": {},
   "outputs": [
    {
     "data": {
      "application/vnd.jupyter.widget-view+json": {
       "model_id": "2f0b180f2f52442a901ead5a8bf148ce",
       "version_major": 2,
       "version_minor": 0
      },
      "text/plain": [
       "interactive(children=(Dropdown(description='Date', options=('Dec. 12, 2018', 'Dec. 14, 2018', 'Jan. 30, 2019',…"
      ]
     },
     "metadata": {},
     "output_type": "display_data"
    }
   ],
   "source": [
    "dates_dropdown = [ day.strftime('%b. %d, %Y') for day in water_dates ]\n",
    "@interact\n",
    "def show_images(Date=dates_dropdown):\n",
    "    idx = dates_dropdown.index(Date)\n",
    "    fn = dateToFn(water_dates[idx])\n",
    "    display(Image(img_dir + '/' + fn))"
   ]
  }
 ],
 "metadata": {
  "kernelspec": {
   "display_name": "Python 3",
   "language": "python",
   "name": "python3"
  },
  "language_info": {
   "codemirror_mode": {
    "name": "ipython",
    "version": 3
   },
   "file_extension": ".py",
   "mimetype": "text/x-python",
   "name": "python",
   "nbconvert_exporter": "python",
   "pygments_lexer": "ipython3",
   "version": "3.7.3"
  }
 },
 "nbformat": 4,
 "nbformat_minor": 2
}
